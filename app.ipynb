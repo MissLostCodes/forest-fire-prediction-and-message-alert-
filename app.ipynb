{
 "cells": [
  {
   "cell_type": "code",
   "execution_count": null,
   "id": "9f462e68",
   "metadata": {},
   "outputs": [
    {
     "name": "stdout",
     "output_type": "stream",
     "text": [
      " * Serving Flask app '__main__'\n",
      " * Debug mode: off\n"
     ]
    },
    {
     "name": "stderr",
     "output_type": "stream",
     "text": [
      "WARNING: This is a development server. Do not use it in a production deployment. Use a production WSGI server instead.\n",
      " * Running on http://127.0.0.1:5000\n",
      "Press CTRL+C to quit\n",
      "127.0.0.1 - - [18/Jul/2024 16:04:22] \"GET / HTTP/1.1\" 200 -\n",
      "127.0.0.1 - - [18/Jul/2024 16:04:22] \"GET /static/style.css HTTP/1.1\" 304 -\n",
      "127.0.0.1 - - [18/Jul/2024 16:04:22] \"GET /static/image.png HTTP/1.1\" 304 -\n"
     ]
    },
    {
     "name": "stdout",
     "output_type": "stream",
     "text": [
      "[25, 65, 10]\n",
      "[array([25, 65, 10])]\n",
      "beeping\n",
      "[25, 65, 10]\n",
      "[array([25, 65, 10])]\n",
      "beeping\n",
      "[25, 65, 10]\n",
      "[array([25, 65, 10])]\n",
      "beeping\n",
      "[25, 65, 10]\n",
      "[array([25, 65, 10])]\n",
      "beeping\n",
      "[25, 65, 10]\n",
      "[array([25, 65, 10])]\n",
      "[25, 65, 10]\n",
      "[array([25, 65, 10])]\n",
      "[25, 65, 10]\n",
      "[array([25, 65, 10])]\n",
      "beeping\n",
      "[25, 65, 10]\n",
      "[array([25, 65, 10])]\n",
      "beeping\n",
      "beeping\n",
      "beeping\n",
      "stopped beeping\n"
     ]
    },
    {
     "name": "stderr",
     "output_type": "stream",
     "text": [
      "127.0.0.1 - - [18/Jul/2024 16:04:35] \"POST /predict HTTP/1.1\" 200 -\n"
     ]
    },
    {
     "name": "stdout",
     "output_type": "stream",
     "text": [
      "stopped beeping\n",
      "stopped beeping\n"
     ]
    },
    {
     "name": "stderr",
     "output_type": "stream",
     "text": [
      "127.0.0.1 - - [18/Jul/2024 16:04:37] \"POST /predict HTTP/1.1\" 200 -\n",
      "127.0.0.1 - - [18/Jul/2024 16:04:38] \"POST /predict HTTP/1.1\" 200 -\n"
     ]
    },
    {
     "name": "stdout",
     "output_type": "stream",
     "text": [
      "stopped beeping\n",
      "stopped beeping\n",
      "stopped beeping\n",
      "stopped beeping\n"
     ]
    },
    {
     "name": "stderr",
     "output_type": "stream",
     "text": [
      "127.0.0.1 - - [18/Jul/2024 16:04:39] \"POST /predict HTTP/1.1\" 200 -\n"
     ]
    },
    {
     "name": "stdout",
     "output_type": "stream",
     "text": [
      "stopped beeping\n"
     ]
    },
    {
     "name": "stderr",
     "output_type": "stream",
     "text": [
      "127.0.0.1 - - [18/Jul/2024 16:04:40] \"POST /predict HTTP/1.1\" 200 -\n",
      "127.0.0.1 - - [18/Jul/2024 16:04:43] \"POST /predict HTTP/1.1\" 200 -\n",
      "127.0.0.1 - - [18/Jul/2024 16:04:43] \"POST /predict HTTP/1.1\" 200 -\n",
      "127.0.0.1 - - [18/Jul/2024 16:04:43] \"POST /predict HTTP/1.1\" 200 -\n",
      "127.0.0.1 - - [18/Jul/2024 16:04:43] \"GET /static/style.css HTTP/1.1\" 304 -\n",
      "127.0.0.1 - - [18/Jul/2024 16:05:30] \"GET / HTTP/1.1\" 200 -\n",
      "127.0.0.1 - - [18/Jul/2024 16:05:30] \"GET /static/style.css HTTP/1.1\" 304 -\n",
      "127.0.0.1 - - [18/Jul/2024 16:05:30] \"GET /static/image.png HTTP/1.1\" 304 -\n"
     ]
    },
    {
     "name": "stdout",
     "output_type": "stream",
     "text": [
      "[45, 50, 20]\n",
      "[array([45, 50, 20])]\n",
      "beeping\n",
      "stopped beeping\n"
     ]
    },
    {
     "name": "stderr",
     "output_type": "stream",
     "text": [
      "127.0.0.1 - - [18/Jul/2024 16:06:04] \"POST /predict HTTP/1.1\" 200 -\n",
      "127.0.0.1 - - [18/Jul/2024 16:06:04] \"GET /static/style.css HTTP/1.1\" 304 -\n"
     ]
    },
    {
     "name": "stdout",
     "output_type": "stream",
     "text": [
      "[50, 59, 2]\n",
      "[array([50, 59,  2])]\n",
      "beeping\n",
      "[50, 59, 2]\n",
      "[array([50, 59,  2])]\n",
      "beeping\n",
      "stopped beeping\n"
     ]
    },
    {
     "name": "stderr",
     "output_type": "stream",
     "text": [
      "127.0.0.1 - - [18/Jul/2024 16:18:30] \"POST /predict HTTP/1.1\" 200 -\n"
     ]
    },
    {
     "name": "stdout",
     "output_type": "stream",
     "text": [
      "stopped beeping\n"
     ]
    },
    {
     "name": "stderr",
     "output_type": "stream",
     "text": [
      "127.0.0.1 - - [18/Jul/2024 16:18:34] \"POST /predict HTTP/1.1\" 200 -\n",
      "127.0.0.1 - - [18/Jul/2024 16:18:34] \"GET /static/style.css HTTP/1.1\" 304 -\n",
      "127.0.0.1 - - [18/Jul/2024 17:13:11] \"GET / HTTP/1.1\" 200 -\n",
      "127.0.0.1 - - [18/Jul/2024 17:13:11] \"GET /static/style.css HTTP/1.1\" 304 -\n",
      "127.0.0.1 - - [18/Jul/2024 17:13:11] \"GET /static/image.png HTTP/1.1\" 304 -\n"
     ]
    },
    {
     "name": "stdout",
     "output_type": "stream",
     "text": [
      "[45, 40, 89]\n",
      "[array([45, 40, 89])]\n",
      "beeping\n",
      "stopped beeping\n"
     ]
    },
    {
     "name": "stderr",
     "output_type": "stream",
     "text": [
      "127.0.0.1 - - [18/Jul/2024 17:17:01] \"POST /predict HTTP/1.1\" 200 -\n",
      "127.0.0.1 - - [18/Jul/2024 17:17:01] \"GET /static/style.css HTTP/1.1\" 304 -\n"
     ]
    },
    {
     "name": "stdout",
     "output_type": "stream",
     "text": [
      "[50, 59, 30]\n",
      "[array([50, 59, 30])]\n",
      "beeping\n",
      "stopped beeping\n"
     ]
    },
    {
     "name": "stderr",
     "output_type": "stream",
     "text": [
      "127.0.0.1 - - [18/Jul/2024 17:18:19] \"POST /predict HTTP/1.1\" 200 -\n",
      "127.0.0.1 - - [18/Jul/2024 17:18:19] \"GET /static/style.css HTTP/1.1\" 304 -\n"
     ]
    }
   ],
   "source": [
    "\n",
    "from boltiot import Bolt\n",
    "import requests\n",
    "from flask import Flask, request, url_for, redirect, render_template\n",
    "import pickle\n",
    "import numpy as np\n",
    "import time  # Import the time module\n",
    "\n",
    "app = Flask(__name__)\n",
    "\n",
    "model = pickle.load(open('model.pkl', 'rb'))\n",
    "BOLT_API_KEY ='xxxxxx'\n",
    "BOLT_DEVICE_ID = 'BOLxxx'\n",
    "telegram_chat_id = \"@xxxxx\"\n",
    "telegram_bot_id = \"botxxxx\"\n",
    "\n",
    "def send_telegram_message(message):\n",
    "    url = \"https://api.telegram.org/\" + telegram_bot_id + \"/sendMessage\"\n",
    "    data = {\n",
    "        \"chat_id\": telegram_chat_id,\n",
    "        \"text\": message\n",
    "    }\n",
    "    try:\n",
    "        response = requests.post(url, params=data)\n",
    "        return response.json()\n",
    "    except Exception as e:\n",
    "        print(\"An error occurred in sending the alert message via Telegram\")\n",
    "        print(e)\n",
    "        return False\n",
    "\n",
    "def trigger_buzzer():\n",
    "    url = f'https://cloud.boltiot.com/remote/{BOLT_API_KEY}/digitalWrite'\n",
    "    data = {\n",
    "        'deviceName': BOLT_DEVICE_ID,\n",
    "        'pin': '0',\n",
    "        'state': 'HIGH'\n",
    "    }\n",
    "    try:\n",
    "        response = requests.get(url, params=data)\n",
    "        print(\"Buzzer state set to HIGH\")\n",
    "        print(\"Response:\", response.json())\n",
    "        time.sleep(5)\n",
    "        data['state'] = 'LOW'\n",
    "        response = requests.get(url, params=data)\n",
    "        print(\"Buzzer state set to LOW\")\n",
    "        print(\"Response:\", response.json())\n",
    "        return response.json()\n",
    "    except Exception as e:\n",
    "        print(\"An error occurred in triggering the buzzer\")\n",
    "        print(e)\n",
    "        return False\n",
    "\n",
    "@app.route('/')\n",
    "def hello_world():\n",
    "    return render_template(\"forest_fire.html\")\n",
    "\n",
    "@app.route('/predict', methods=['POST', 'GET'])\n",
    "def predict():\n",
    "    try:\n",
    "        int_features = [int(x) for x in request.form.values()]\n",
    "        final = [np.array(int_features)]\n",
    "        print(int_features)\n",
    "        print(final)\n",
    "        prediction = model.predict_proba(final)\n",
    "        output = '{0:.{1}f}'.format(prediction[0][1], 2)\n",
    "\n",
    "        if float(output) > 0.7:\n",
    "            trigger_buzzer()\n",
    "            send_telegram_message(\"Warning! Fire can occur in your Forest!\")\n",
    "            return render_template('forest_fire.html', pred='Your Forest is in Danger.\\nProbability of fire occurring is {}'.format(output), send=\"send alert\")\n",
    "        else:\n",
    "            return render_template('forest_fire.html', pred='Your Forest is safe.\\nProbability of fire occurring is {}'.format(output), send=\"Your Forest is Safe for now\")\n",
    "    except ValueError:\n",
    "        return render_template('forest_fire.html', pred='Invalid input. Please enter numeric values only.', send=\"Please try again.\")\n",
    "    except Exception as e:\n",
    "        print(\"An error occurred during prediction\")\n",
    "        print(e)\n",
    "        return render_template('forest_fire.html', pred='An error occurred during prediction.', send=\"Please try again.\")\n",
    "\n",
    "if __name__ == '__main__':\n",
    "    app.run(debug=False)\n"
   ]
  },
  {
   "cell_type": "code",
   "execution_count": null,
   "id": "7b9e0505",
   "metadata": {},
   "outputs": [],
   "source": []
  },
  {
   "cell_type": "code",
   "execution_count": null,
   "id": "6ace343e",
   "metadata": {},
   "outputs": [],
   "source": []
  }
 ],
 "metadata": {
  "kernelspec": {
   "display_name": "Python 3 (ipykernel)",
   "language": "python",
   "name": "python3"
  },
  "language_info": {
   "codemirror_mode": {
    "name": "ipython",
    "version": 3
   },
   "file_extension": ".py",
   "mimetype": "text/x-python",
   "name": "python",
   "nbconvert_exporter": "python",
   "pygments_lexer": "ipython3",
   "version": "3.11.3"
  }
 },
 "nbformat": 4,
 "nbformat_minor": 5
}
